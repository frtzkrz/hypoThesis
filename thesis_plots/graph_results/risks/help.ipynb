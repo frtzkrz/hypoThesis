{
 "cells": [
  {
   "cell_type": "markdown",
   "id": "36d02a39",
   "metadata": {},
   "source": [
    "### Small helper to show keys of the hdf5 files"
   ]
  },
  {
   "cell_type": "code",
   "execution_count": 10,
   "id": "b8f60f61",
   "metadata": {},
   "outputs": [],
   "source": [
    "import h5py as h5\n",
    "import numpy as np"
   ]
  },
  {
   "cell_type": "code",
   "execution_count": 13,
   "id": "31f87e72",
   "metadata": {},
   "outputs": [
    {
     "name": "stdout",
     "output_type": "stream",
     "text": [
      "Keys: <KeysViewHDF5 ['III', 'IV', 'V']>\n",
      "<KeysViewHDF5 ['II', 'N0']>\n",
      "11.821696179158298\n"
     ]
    }
   ],
   "source": [
    "filename = 'risks.hdf5'\n",
    "with h5.File(filename, 'r') as f:\n",
    "    # Print all root level object names (aka keys) \n",
    "    # these are the datasets in the file\n",
    "    print(\"Keys: %s\" % f.keys())\n",
    "    print(f['III'].keys())\n",
    "    dataset =f['III']['N0']['early']\n",
    "    print(100.*np.mean(dataset))"
   ]
  },
  {
   "cell_type": "code",
   "execution_count": 14,
   "id": "de946df7",
   "metadata": {},
   "outputs": [
    {
     "data": {
      "text/plain": [
       "(6.299212598425196, 3.893209269731271)"
      ]
     },
     "execution_count": 14,
     "metadata": {},
     "output_type": "execute_result"
    }
   ],
   "source": [
    "import lyscripts.plot.histograms as lyhist\n",
    "figsize=lyhist.get_size(width=\"full\")\n",
    "figsize"
   ]
  },
  {
   "cell_type": "code",
   "execution_count": null,
   "id": "68c8f5d0",
   "metadata": {},
   "outputs": [],
   "source": []
  }
 ],
 "metadata": {
  "kernelspec": {
   "display_name": ".venv",
   "language": "python",
   "name": "python3"
  },
  "language_info": {
   "codemirror_mode": {
    "name": "ipython",
    "version": 3
   },
   "file_extension": ".py",
   "mimetype": "text/x-python",
   "name": "python",
   "nbconvert_exporter": "python",
   "pygments_lexer": "ipython3",
   "version": "3.12.2"
  }
 },
 "nbformat": 4,
 "nbformat_minor": 5
}
